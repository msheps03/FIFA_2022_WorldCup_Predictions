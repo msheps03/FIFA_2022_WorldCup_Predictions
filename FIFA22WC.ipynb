{
  "nbformat": 4,
  "nbformat_minor": 0,
  "metadata": {
    "colab": {
      "provenance": []
    },
    "kernelspec": {
      "name": "python3",
      "display_name": "Python 3"
    },
    "language_info": {
      "name": "python"
    }
  },
  "cells": [
    {
      "cell_type": "markdown",
      "source": [
        "## Mounting shared drive"
      ],
      "metadata": {
        "id": "QhD26NZJo4xR"
      }
    },
    {
      "cell_type": "code",
      "source": [
        "from google.colab import drive\n",
        "\n",
        "drive.mount('/content/drive')\n",
        "path = '/content/drive/Shared drives/597ML_Project/597ML_Project/'"
      ],
      "metadata": {
        "id": "Q3L3XqXs8vH2",
        "colab": {
          "base_uri": "https://localhost:8080/"
        },
        "outputId": "0284c28d-1a96-45b4-dcde-51479853c47f"
      },
      "execution_count": null,
      "outputs": [
        {
          "output_type": "stream",
          "name": "stdout",
          "text": [
            "Mounted at /content/drive\n"
          ]
        }
      ]
    },
    {
      "cell_type": "markdown",
      "source": [
        "## Importing necessary libraries, modules, and data files:"
      ],
      "metadata": {
        "id": "6oeHq-gYCojf"
      }
    },
    {
      "cell_type": "code",
      "execution_count": null,
      "metadata": {
        "id": "8Os5lAV4CJw9"
      },
      "outputs": [],
      "source": [
        "import pandas as pd\n",
        "import numpy as np\n",
        "import seaborn as sns\n",
        "import matplotlib.pyplot as plt\n",
        "import matplotlib.ticker as ticker\n",
        "import matplotlib.ticker as plticker\n",
        "import pickle\n",
        "from tabulate import tabulate\n",
        "import math\n",
        "from sklearn.model_selection import cross_validate\n",
        "from sklearn.metrics import recall_score\n",
        "from sklearn import svm\n",
        "from sklearn.model_selection import train_test_split"
      ]
    },
    {
      "cell_type": "code",
      "source": [
        "# import csvs\n",
        "results = pd.read_csv(path + 'results.csv')\n",
        "fixtures = pd.read_csv(path + 'fifa-world-cup-2022-fixtures.csv')\n",
        "ranking = pd.read_csv(path + 'new_rankings.csv', encoding = 'latin-1')"
      ],
      "metadata": {
        "id": "VZRAAUpbya5n"
      },
      "execution_count": null,
      "outputs": []
    },
    {
      "cell_type": "markdown",
      "source": [
        "## Loading Saved Models"
      ],
      "metadata": {
        "id": "ogm-U2OolWur"
      }
    },
    {
      "cell_type": "code",
      "source": [
        "def saveModelsToDrive(filename, clf, drive = path + 'Models/'):\n",
        "    pickle.dump(clf, open(drive + filename, 'wb'))\n",
        "\n",
        "def loadModelsFromDrive(filename, drive = path + 'Models/'):\n",
        "    return pickle.load(open(drive + filename, 'rb'))"
      ],
      "metadata": {
        "id": "4UWnkNhdljhI"
      },
      "execution_count": null,
      "outputs": []
    },
    {
      "cell_type": "code",
      "source": [
        "filename = 'logistic_Monday_2.sav'\n",
        "logistic = loadModelsFromDrive(filename)\n",
        "\n",
        "filename2 = 'svm_Monday_2.sav'\n",
        "svm_clf = loadModelsFromDrive(filename2)"
      ],
      "metadata": {
        "id": "9jz7uVNuld14"
      },
      "execution_count": null,
      "outputs": []
    },
    {
      "cell_type": "markdown",
      "source": [
        "# Exploratory data analysis"
      ],
      "metadata": {
        "id": "L70fPC5YAou1"
      }
    },
    {
      "cell_type": "markdown",
      "source": [
        "### Checking the number of columns and rows in each file"
      ],
      "metadata": {
        "id": "HFtIYSnsA3N4"
      }
    },
    {
      "cell_type": "code",
      "source": [
        "print('The data file results has these many columns and rows represented as (rows, columns):')\n",
        "print(results.shape)\n",
        "print('\\nThe data file fixtures has these many columns and rows represented as (rows, columns):')\n",
        "print(fixtures.shape)\n",
        "print('\\nThe data file ranking has these many columns and rows represented as (rows, columns):')\n",
        "print(ranking.shape)"
      ],
      "metadata": {
        "colab": {
          "base_uri": "https://localhost:8080/"
        },
        "id": "Sh7L7DwDAsh1",
        "outputId": "a06463c7-02f5-4574-abed-1c95866b0f9f"
      },
      "execution_count": null,
      "outputs": [
        {
          "output_type": "stream",
          "name": "stdout",
          "text": [
            "The data file results has these many columns and rows represented as (rows, columns):\n",
            "(39654, 9)\n",
            "\n",
            "The data file fixtures has these many columns and rows represented as (rows, columns):\n",
            "(48, 3)\n",
            "\n",
            "The data file ranking has these many columns and rows represented as (rows, columns):\n",
            "(75, 3)\n"
          ]
        }
      ]
    },
    {
      "cell_type": "markdown",
      "source": [
        "### Looking at a few values within each of the data files"
      ],
      "metadata": {
        "id": "BN8GmX-2CK9o"
      }
    },
    {
      "cell_type": "code",
      "source": [
        "results.head()"
      ],
      "metadata": {
        "colab": {
          "base_uri": "https://localhost:8080/",
          "height": 206
        },
        "id": "HQHQA3RqCXtO",
        "outputId": "3e5a0139-5d10-48ff-da18-cd5495bcff96"
      },
      "execution_count": null,
      "outputs": [
        {
          "output_type": "execute_result",
          "data": {
            "text/plain": [
              "         date home_team away_team  home_score  away_score tournament     city  \\\n",
              "0  1872-11-30  Scotland   England           0           0   Friendly  Glasgow   \n",
              "1  1873-03-08   England  Scotland           4           2   Friendly   London   \n",
              "2  1874-03-07  Scotland   England           2           1   Friendly  Glasgow   \n",
              "3  1875-03-06   England  Scotland           2           2   Friendly   London   \n",
              "4  1876-03-04  Scotland   England           3           0   Friendly  Glasgow   \n",
              "\n",
              "    country  neutral  \n",
              "0  Scotland    False  \n",
              "1   England    False  \n",
              "2  Scotland    False  \n",
              "3   England    False  \n",
              "4  Scotland    False  "
            ],
            "text/html": [
              "\n",
              "  <div id=\"df-a02048c1-b3d8-459a-a751-ea183c34b6b0\">\n",
              "    <div class=\"colab-df-container\">\n",
              "      <div>\n",
              "<style scoped>\n",
              "    .dataframe tbody tr th:only-of-type {\n",
              "        vertical-align: middle;\n",
              "    }\n",
              "\n",
              "    .dataframe tbody tr th {\n",
              "        vertical-align: top;\n",
              "    }\n",
              "\n",
              "    .dataframe thead th {\n",
              "        text-align: right;\n",
              "    }\n",
              "</style>\n",
              "<table border=\"1\" class=\"dataframe\">\n",
              "  <thead>\n",
              "    <tr style=\"text-align: right;\">\n",
              "      <th></th>\n",
              "      <th>date</th>\n",
              "      <th>home_team</th>\n",
              "      <th>away_team</th>\n",
              "      <th>home_score</th>\n",
              "      <th>away_score</th>\n",
              "      <th>tournament</th>\n",
              "      <th>city</th>\n",
              "      <th>country</th>\n",
              "      <th>neutral</th>\n",
              "    </tr>\n",
              "  </thead>\n",
              "  <tbody>\n",
              "    <tr>\n",
              "      <th>0</th>\n",
              "      <td>1872-11-30</td>\n",
              "      <td>Scotland</td>\n",
              "      <td>England</td>\n",
              "      <td>0</td>\n",
              "      <td>0</td>\n",
              "      <td>Friendly</td>\n",
              "      <td>Glasgow</td>\n",
              "      <td>Scotland</td>\n",
              "      <td>False</td>\n",
              "    </tr>\n",
              "    <tr>\n",
              "      <th>1</th>\n",
              "      <td>1873-03-08</td>\n",
              "      <td>England</td>\n",
              "      <td>Scotland</td>\n",
              "      <td>4</td>\n",
              "      <td>2</td>\n",
              "      <td>Friendly</td>\n",
              "      <td>London</td>\n",
              "      <td>England</td>\n",
              "      <td>False</td>\n",
              "    </tr>\n",
              "    <tr>\n",
              "      <th>2</th>\n",
              "      <td>1874-03-07</td>\n",
              "      <td>Scotland</td>\n",
              "      <td>England</td>\n",
              "      <td>2</td>\n",
              "      <td>1</td>\n",
              "      <td>Friendly</td>\n",
              "      <td>Glasgow</td>\n",
              "      <td>Scotland</td>\n",
              "      <td>False</td>\n",
              "    </tr>\n",
              "    <tr>\n",
              "      <th>3</th>\n",
              "      <td>1875-03-06</td>\n",
              "      <td>England</td>\n",
              "      <td>Scotland</td>\n",
              "      <td>2</td>\n",
              "      <td>2</td>\n",
              "      <td>Friendly</td>\n",
              "      <td>London</td>\n",
              "      <td>England</td>\n",
              "      <td>False</td>\n",
              "    </tr>\n",
              "    <tr>\n",
              "      <th>4</th>\n",
              "      <td>1876-03-04</td>\n",
              "      <td>Scotland</td>\n",
              "      <td>England</td>\n",
              "      <td>3</td>\n",
              "      <td>0</td>\n",
              "      <td>Friendly</td>\n",
              "      <td>Glasgow</td>\n",
              "      <td>Scotland</td>\n",
              "      <td>False</td>\n",
              "    </tr>\n",
              "  </tbody>\n",
              "</table>\n",
              "</div>\n",
              "      <button class=\"colab-df-convert\" onclick=\"convertToInteractive('df-a02048c1-b3d8-459a-a751-ea183c34b6b0')\"\n",
              "              title=\"Convert this dataframe to an interactive table.\"\n",
              "              style=\"display:none;\">\n",
              "        \n",
              "  <svg xmlns=\"http://www.w3.org/2000/svg\" height=\"24px\"viewBox=\"0 0 24 24\"\n",
              "       width=\"24px\">\n",
              "    <path d=\"M0 0h24v24H0V0z\" fill=\"none\"/>\n",
              "    <path d=\"M18.56 5.44l.94 2.06.94-2.06 2.06-.94-2.06-.94-.94-2.06-.94 2.06-2.06.94zm-11 1L8.5 8.5l.94-2.06 2.06-.94-2.06-.94L8.5 2.5l-.94 2.06-2.06.94zm10 10l.94 2.06.94-2.06 2.06-.94-2.06-.94-.94-2.06-.94 2.06-2.06.94z\"/><path d=\"M17.41 7.96l-1.37-1.37c-.4-.4-.92-.59-1.43-.59-.52 0-1.04.2-1.43.59L10.3 9.45l-7.72 7.72c-.78.78-.78 2.05 0 2.83L4 21.41c.39.39.9.59 1.41.59.51 0 1.02-.2 1.41-.59l7.78-7.78 2.81-2.81c.8-.78.8-2.07 0-2.86zM5.41 20L4 18.59l7.72-7.72 1.47 1.35L5.41 20z\"/>\n",
              "  </svg>\n",
              "      </button>\n",
              "      \n",
              "  <style>\n",
              "    .colab-df-container {\n",
              "      display:flex;\n",
              "      flex-wrap:wrap;\n",
              "      gap: 12px;\n",
              "    }\n",
              "\n",
              "    .colab-df-convert {\n",
              "      background-color: #E8F0FE;\n",
              "      border: none;\n",
              "      border-radius: 50%;\n",
              "      cursor: pointer;\n",
              "      display: none;\n",
              "      fill: #1967D2;\n",
              "      height: 32px;\n",
              "      padding: 0 0 0 0;\n",
              "      width: 32px;\n",
              "    }\n",
              "\n",
              "    .colab-df-convert:hover {\n",
              "      background-color: #E2EBFA;\n",
              "      box-shadow: 0px 1px 2px rgba(60, 64, 67, 0.3), 0px 1px 3px 1px rgba(60, 64, 67, 0.15);\n",
              "      fill: #174EA6;\n",
              "    }\n",
              "\n",
              "    [theme=dark] .colab-df-convert {\n",
              "      background-color: #3B4455;\n",
              "      fill: #D2E3FC;\n",
              "    }\n",
              "\n",
              "    [theme=dark] .colab-df-convert:hover {\n",
              "      background-color: #434B5C;\n",
              "      box-shadow: 0px 1px 3px 1px rgba(0, 0, 0, 0.15);\n",
              "      filter: drop-shadow(0px 1px 2px rgba(0, 0, 0, 0.3));\n",
              "      fill: #FFFFFF;\n",
              "    }\n",
              "  </style>\n",
              "\n",
              "      <script>\n",
              "        const buttonEl =\n",
              "          document.querySelector('#df-a02048c1-b3d8-459a-a751-ea183c34b6b0 button.colab-df-convert');\n",
              "        buttonEl.style.display =\n",
              "          google.colab.kernel.accessAllowed ? 'block' : 'none';\n",
              "\n",
              "        async function convertToInteractive(key) {\n",
              "          const element = document.querySelector('#df-a02048c1-b3d8-459a-a751-ea183c34b6b0');\n",
              "          const dataTable =\n",
              "            await google.colab.kernel.invokeFunction('convertToInteractive',\n",
              "                                                     [key], {});\n",
              "          if (!dataTable) return;\n",
              "\n",
              "          const docLinkHtml = 'Like what you see? Visit the ' +\n",
              "            '<a target=\"_blank\" href=https://colab.research.google.com/notebooks/data_table.ipynb>data table notebook</a>'\n",
              "            + ' to learn more about interactive tables.';\n",
              "          element.innerHTML = '';\n",
              "          dataTable['output_type'] = 'display_data';\n",
              "          await google.colab.output.renderOutput(dataTable, element);\n",
              "          const docLink = document.createElement('div');\n",
              "          docLink.innerHTML = docLinkHtml;\n",
              "          element.appendChild(docLink);\n",
              "        }\n",
              "      </script>\n",
              "    </div>\n",
              "  </div>\n",
              "  "
            ]
          },
          "metadata": {},
          "execution_count": 7
        }
      ]
    },
    {
      "cell_type": "code",
      "source": [
        "fixtures.head()"
      ],
      "metadata": {
        "colab": {
          "base_uri": "https://localhost:8080/",
          "height": 206
        },
        "id": "qx4oS90gC1hP",
        "outputId": "a76a54bb-bfe4-48d9-9ebe-58ef573ae4f6"
      },
      "execution_count": null,
      "outputs": [
        {
          "output_type": "execute_result",
          "data": {
            "text/plain": [
              "   Home Team     Away Team    Group\n",
              "0    Senegal   Netherlands  Group A\n",
              "1    England          Iran  Group B\n",
              "2      Qatar       Ecuador  Group A\n",
              "3        USA         Wales  Group B\n",
              "4  Argentina  Saudi Arabia  Group C"
            ],
            "text/html": [
              "\n",
              "  <div id=\"df-c6ccfe67-ddab-42e1-93fb-0ad1c1e5aa72\">\n",
              "    <div class=\"colab-df-container\">\n",
              "      <div>\n",
              "<style scoped>\n",
              "    .dataframe tbody tr th:only-of-type {\n",
              "        vertical-align: middle;\n",
              "    }\n",
              "\n",
              "    .dataframe tbody tr th {\n",
              "        vertical-align: top;\n",
              "    }\n",
              "\n",
              "    .dataframe thead th {\n",
              "        text-align: right;\n",
              "    }\n",
              "</style>\n",
              "<table border=\"1\" class=\"dataframe\">\n",
              "  <thead>\n",
              "    <tr style=\"text-align: right;\">\n",
              "      <th></th>\n",
              "      <th>Home Team</th>\n",
              "      <th>Away Team</th>\n",
              "      <th>Group</th>\n",
              "    </tr>\n",
              "  </thead>\n",
              "  <tbody>\n",
              "    <tr>\n",
              "      <th>0</th>\n",
              "      <td>Senegal</td>\n",
              "      <td>Netherlands</td>\n",
              "      <td>Group A</td>\n",
              "    </tr>\n",
              "    <tr>\n",
              "      <th>1</th>\n",
              "      <td>England</td>\n",
              "      <td>Iran</td>\n",
              "      <td>Group B</td>\n",
              "    </tr>\n",
              "    <tr>\n",
              "      <th>2</th>\n",
              "      <td>Qatar</td>\n",
              "      <td>Ecuador</td>\n",
              "      <td>Group A</td>\n",
              "    </tr>\n",
              "    <tr>\n",
              "      <th>3</th>\n",
              "      <td>USA</td>\n",
              "      <td>Wales</td>\n",
              "      <td>Group B</td>\n",
              "    </tr>\n",
              "    <tr>\n",
              "      <th>4</th>\n",
              "      <td>Argentina</td>\n",
              "      <td>Saudi Arabia</td>\n",
              "      <td>Group C</td>\n",
              "    </tr>\n",
              "  </tbody>\n",
              "</table>\n",
              "</div>\n",
              "      <button class=\"colab-df-convert\" onclick=\"convertToInteractive('df-c6ccfe67-ddab-42e1-93fb-0ad1c1e5aa72')\"\n",
              "              title=\"Convert this dataframe to an interactive table.\"\n",
              "              style=\"display:none;\">\n",
              "        \n",
              "  <svg xmlns=\"http://www.w3.org/2000/svg\" height=\"24px\"viewBox=\"0 0 24 24\"\n",
              "       width=\"24px\">\n",
              "    <path d=\"M0 0h24v24H0V0z\" fill=\"none\"/>\n",
              "    <path d=\"M18.56 5.44l.94 2.06.94-2.06 2.06-.94-2.06-.94-.94-2.06-.94 2.06-2.06.94zm-11 1L8.5 8.5l.94-2.06 2.06-.94-2.06-.94L8.5 2.5l-.94 2.06-2.06.94zm10 10l.94 2.06.94-2.06 2.06-.94-2.06-.94-.94-2.06-.94 2.06-2.06.94z\"/><path d=\"M17.41 7.96l-1.37-1.37c-.4-.4-.92-.59-1.43-.59-.52 0-1.04.2-1.43.59L10.3 9.45l-7.72 7.72c-.78.78-.78 2.05 0 2.83L4 21.41c.39.39.9.59 1.41.59.51 0 1.02-.2 1.41-.59l7.78-7.78 2.81-2.81c.8-.78.8-2.07 0-2.86zM5.41 20L4 18.59l7.72-7.72 1.47 1.35L5.41 20z\"/>\n",
              "  </svg>\n",
              "      </button>\n",
              "      \n",
              "  <style>\n",
              "    .colab-df-container {\n",
              "      display:flex;\n",
              "      flex-wrap:wrap;\n",
              "      gap: 12px;\n",
              "    }\n",
              "\n",
              "    .colab-df-convert {\n",
              "      background-color: #E8F0FE;\n",
              "      border: none;\n",
              "      border-radius: 50%;\n",
              "      cursor: pointer;\n",
              "      display: none;\n",
              "      fill: #1967D2;\n",
              "      height: 32px;\n",
              "      padding: 0 0 0 0;\n",
              "      width: 32px;\n",
              "    }\n",
              "\n",
              "    .colab-df-convert:hover {\n",
              "      background-color: #E2EBFA;\n",
              "      box-shadow: 0px 1px 2px rgba(60, 64, 67, 0.3), 0px 1px 3px 1px rgba(60, 64, 67, 0.15);\n",
              "      fill: #174EA6;\n",
              "    }\n",
              "\n",
              "    [theme=dark] .colab-df-convert {\n",
              "      background-color: #3B4455;\n",
              "      fill: #D2E3FC;\n",
              "    }\n",
              "\n",
              "    [theme=dark] .colab-df-convert:hover {\n",
              "      background-color: #434B5C;\n",
              "      box-shadow: 0px 1px 3px 1px rgba(0, 0, 0, 0.15);\n",
              "      filter: drop-shadow(0px 1px 2px rgba(0, 0, 0, 0.3));\n",
              "      fill: #FFFFFF;\n",
              "    }\n",
              "  </style>\n",
              "\n",
              "      <script>\n",
              "        const buttonEl =\n",
              "          document.querySelector('#df-c6ccfe67-ddab-42e1-93fb-0ad1c1e5aa72 button.colab-df-convert');\n",
              "        buttonEl.style.display =\n",
              "          google.colab.kernel.accessAllowed ? 'block' : 'none';\n",
              "\n",
              "        async function convertToInteractive(key) {\n",
              "          const element = document.querySelector('#df-c6ccfe67-ddab-42e1-93fb-0ad1c1e5aa72');\n",
              "          const dataTable =\n",
              "            await google.colab.kernel.invokeFunction('convertToInteractive',\n",
              "                                                     [key], {});\n",
              "          if (!dataTable) return;\n",
              "\n",
              "          const docLinkHtml = 'Like what you see? Visit the ' +\n",
              "            '<a target=\"_blank\" href=https://colab.research.google.com/notebooks/data_table.ipynb>data table notebook</a>'\n",
              "            + ' to learn more about interactive tables.';\n",
              "          element.innerHTML = '';\n",
              "          dataTable['output_type'] = 'display_data';\n",
              "          await google.colab.output.renderOutput(dataTable, element);\n",
              "          const docLink = document.createElement('div');\n",
              "          docLink.innerHTML = docLinkHtml;\n",
              "          element.appendChild(docLink);\n",
              "        }\n",
              "      </script>\n",
              "    </div>\n",
              "  </div>\n",
              "  "
            ]
          },
          "metadata": {},
          "execution_count": 8
        }
      ]
    },
    {
      "cell_type": "code",
      "source": [
        "ranking.head()"
      ],
      "metadata": {
        "colab": {
          "base_uri": "https://localhost:8080/",
          "height": 206
        },
        "id": "yIz5B4AHDKFA",
        "outputId": "dff5e045-b985-44ca-eb14-f223974c9563"
      },
      "execution_count": null,
      "outputs": [
        {
          "output_type": "execute_result",
          "data": {
            "text/plain": [
              "   Position       Team  Points\n",
              "0         1    Belgium    1828\n",
              "1         2     Brazil    1823\n",
              "2         3     France    1786\n",
              "3         4  Argentina    1767\n",
              "4         5    England    1756"
            ],
            "text/html": [
              "\n",
              "  <div id=\"df-fea98faa-1f2b-4332-b603-e8d19b687e27\">\n",
              "    <div class=\"colab-df-container\">\n",
              "      <div>\n",
              "<style scoped>\n",
              "    .dataframe tbody tr th:only-of-type {\n",
              "        vertical-align: middle;\n",
              "    }\n",
              "\n",
              "    .dataframe tbody tr th {\n",
              "        vertical-align: top;\n",
              "    }\n",
              "\n",
              "    .dataframe thead th {\n",
              "        text-align: right;\n",
              "    }\n",
              "</style>\n",
              "<table border=\"1\" class=\"dataframe\">\n",
              "  <thead>\n",
              "    <tr style=\"text-align: right;\">\n",
              "      <th></th>\n",
              "      <th>Position</th>\n",
              "      <th>Team</th>\n",
              "      <th>Points</th>\n",
              "    </tr>\n",
              "  </thead>\n",
              "  <tbody>\n",
              "    <tr>\n",
              "      <th>0</th>\n",
              "      <td>1</td>\n",
              "      <td>Belgium</td>\n",
              "      <td>1828</td>\n",
              "    </tr>\n",
              "    <tr>\n",
              "      <th>1</th>\n",
              "      <td>2</td>\n",
              "      <td>Brazil</td>\n",
              "      <td>1823</td>\n",
              "    </tr>\n",
              "    <tr>\n",
              "      <th>2</th>\n",
              "      <td>3</td>\n",
              "      <td>France</td>\n",
              "      <td>1786</td>\n",
              "    </tr>\n",
              "    <tr>\n",
              "      <th>3</th>\n",
              "      <td>4</td>\n",
              "      <td>Argentina</td>\n",
              "      <td>1767</td>\n",
              "    </tr>\n",
              "    <tr>\n",
              "      <th>4</th>\n",
              "      <td>5</td>\n",
              "      <td>England</td>\n",
              "      <td>1756</td>\n",
              "    </tr>\n",
              "  </tbody>\n",
              "</table>\n",
              "</div>\n",
              "      <button class=\"colab-df-convert\" onclick=\"convertToInteractive('df-fea98faa-1f2b-4332-b603-e8d19b687e27')\"\n",
              "              title=\"Convert this dataframe to an interactive table.\"\n",
              "              style=\"display:none;\">\n",
              "        \n",
              "  <svg xmlns=\"http://www.w3.org/2000/svg\" height=\"24px\"viewBox=\"0 0 24 24\"\n",
              "       width=\"24px\">\n",
              "    <path d=\"M0 0h24v24H0V0z\" fill=\"none\"/>\n",
              "    <path d=\"M18.56 5.44l.94 2.06.94-2.06 2.06-.94-2.06-.94-.94-2.06-.94 2.06-2.06.94zm-11 1L8.5 8.5l.94-2.06 2.06-.94-2.06-.94L8.5 2.5l-.94 2.06-2.06.94zm10 10l.94 2.06.94-2.06 2.06-.94-2.06-.94-.94-2.06-.94 2.06-2.06.94z\"/><path d=\"M17.41 7.96l-1.37-1.37c-.4-.4-.92-.59-1.43-.59-.52 0-1.04.2-1.43.59L10.3 9.45l-7.72 7.72c-.78.78-.78 2.05 0 2.83L4 21.41c.39.39.9.59 1.41.59.51 0 1.02-.2 1.41-.59l7.78-7.78 2.81-2.81c.8-.78.8-2.07 0-2.86zM5.41 20L4 18.59l7.72-7.72 1.47 1.35L5.41 20z\"/>\n",
              "  </svg>\n",
              "      </button>\n",
              "      \n",
              "  <style>\n",
              "    .colab-df-container {\n",
              "      display:flex;\n",
              "      flex-wrap:wrap;\n",
              "      gap: 12px;\n",
              "    }\n",
              "\n",
              "    .colab-df-convert {\n",
              "      background-color: #E8F0FE;\n",
              "      border: none;\n",
              "      border-radius: 50%;\n",
              "      cursor: pointer;\n",
              "      display: none;\n",
              "      fill: #1967D2;\n",
              "      height: 32px;\n",
              "      padding: 0 0 0 0;\n",
              "      width: 32px;\n",
              "    }\n",
              "\n",
              "    .colab-df-convert:hover {\n",
              "      background-color: #E2EBFA;\n",
              "      box-shadow: 0px 1px 2px rgba(60, 64, 67, 0.3), 0px 1px 3px 1px rgba(60, 64, 67, 0.15);\n",
              "      fill: #174EA6;\n",
              "    }\n",
              "\n",
              "    [theme=dark] .colab-df-convert {\n",
              "      background-color: #3B4455;\n",
              "      fill: #D2E3FC;\n",
              "    }\n",
              "\n",
              "    [theme=dark] .colab-df-convert:hover {\n",
              "      background-color: #434B5C;\n",
              "      box-shadow: 0px 1px 3px 1px rgba(0, 0, 0, 0.15);\n",
              "      filter: drop-shadow(0px 1px 2px rgba(0, 0, 0, 0.3));\n",
              "      fill: #FFFFFF;\n",
              "    }\n",
              "  </style>\n",
              "\n",
              "      <script>\n",
              "        const buttonEl =\n",
              "          document.querySelector('#df-fea98faa-1f2b-4332-b603-e8d19b687e27 button.colab-df-convert');\n",
              "        buttonEl.style.display =\n",
              "          google.colab.kernel.accessAllowed ? 'block' : 'none';\n",
              "\n",
              "        async function convertToInteractive(key) {\n",
              "          const element = document.querySelector('#df-fea98faa-1f2b-4332-b603-e8d19b687e27');\n",
              "          const dataTable =\n",
              "            await google.colab.kernel.invokeFunction('convertToInteractive',\n",
              "                                                     [key], {});\n",
              "          if (!dataTable) return;\n",
              "\n",
              "          const docLinkHtml = 'Like what you see? Visit the ' +\n",
              "            '<a target=\"_blank\" href=https://colab.research.google.com/notebooks/data_table.ipynb>data table notebook</a>'\n",
              "            + ' to learn more about interactive tables.';\n",
              "          element.innerHTML = '';\n",
              "          dataTable['output_type'] = 'display_data';\n",
              "          await google.colab.output.renderOutput(dataTable, element);\n",
              "          const docLink = document.createElement('div');\n",
              "          docLink.innerHTML = docLinkHtml;\n",
              "          element.appendChild(docLink);\n",
              "        }\n",
              "      </script>\n",
              "    </div>\n",
              "  </div>\n",
              "  "
            ]
          },
          "metadata": {},
          "execution_count": 9
        }
      ]
    },
    {
      "cell_type": "markdown",
      "source": [
        "### As we can see, the results datafile has data from the year 1872 onwards, however, that data will not help us make a better prediction, infact it facts it will make our prediction worse. This dataset also has the data for teams which have not qualified for the 2022 world cup and hence their data should be omitted. Moreover the results datafile has the names of the teams playing and the score, but it doesn't have the name of the winning team or the goal difference, both of which we need. Therefore we have to change the dataset a little bit:"
      ],
      "metadata": {
        "id": "RBVfUKZrDgln"
      }
    },
    {
      "cell_type": "markdown",
      "source": [
        "## Changing the results.csv dataset to include name of winning team and goal difference"
      ],
      "metadata": {
        "id": "edN_2z3ZO1wQ"
      }
    },
    {
      "cell_type": "code",
      "source": [
        "winner = []\n",
        "\n",
        "for i in range (len(results['home_team'])):\n",
        "    if results ['home_score'][i] > results['away_score'][i]:\n",
        "        winner.append(results['home_team'][i])\n",
        "    elif results['home_score'][i] < results ['away_score'][i]:\n",
        "        winner.append(results['away_team'][i])\n",
        "    else:\n",
        "        winner.append('Draw')\n",
        "\n",
        "# adding winning team column\n",
        "results['winning_team'] = winner\n",
        "\n",
        "# adding goal difference column\n",
        "results['goal_difference'] = np.absolute(results['home_score'] - results['away_score'])"
      ],
      "metadata": {
        "id": "mfvb1RiOO9SG"
      },
      "execution_count": null,
      "outputs": []
    },
    {
      "cell_type": "markdown",
      "source": [
        "## Changing the results.csv dataset to only show record of the teams qualified for this edition of the world cup and also to only show results from 2000 onwards"
      ],
      "metadata": {
        "id": "1c3BclhdTlJE"
      }
    },
    {
      "cell_type": "code",
      "source": [
        "worldcup_teams = ['Qatar', 'Germany', 'Denmark', 'Korea Republic',\n",
        "                  'Brazil', 'France', 'Belgium', 'Croatia',\n",
        "                  'Spain', 'Serbia', 'England', 'Switzerland',\n",
        "                  'Netherlands', 'Argentina', 'Iran', 'Japan',\n",
        "                  'Saudi Arabia', 'Ecuador', 'Uruguay', 'Canada',\n",
        "                  'Ghana', 'Senegal', 'Portugal', 'Poland',\n",
        "                  'Tunisia', 'Morocco', 'Cameroon', 'USA',\n",
        "                  'Mexico', 'Cota Rica', 'Wales', 'Australia']\n",
        "\n",
        "df_teams_home = results[results['home_team'].isin(worldcup_teams)]\n",
        "df_teams_away = results[results['away_team'].isin(worldcup_teams)]\n",
        "df_teams = pd.concat((df_teams_home, df_teams_away))\n",
        "df_teams.drop_duplicates()\n",
        "df_teams.count()\n",
        "\n",
        "year = []\n",
        "for row in df_teams['date']:\n",
        "    year.append(int(row[:4]))\n",
        "df_teams['match_year'] = year\n",
        "df_teams_2000 = df_teams[df_teams.match_year >= 2000]\n",
        "\n",
        "df_teams_2000 = df_teams.drop(['date', 'home_score', 'away_score', 'tournament', 'city', 'country',\n",
        "                               'goal_difference', 'match_year'], axis = 1)"
      ],
      "metadata": {
        "id": "NcWFMvXtUciQ"
      },
      "execution_count": null,
      "outputs": []
    },
    {
      "cell_type": "markdown",
      "source": [
        "### Since it is not very important to visualise the data, we will not be making statistical plots. We already have a pretty good idea of what the data looks like, we can continue onwards to building our model"
      ],
      "metadata": {
        "id": "vTvGE2H5HLp3"
      }
    },
    {
      "cell_type": "markdown",
      "source": [
        "## Giving points to the teams. 3 points for winning, 1 point for drawing, and 0 points for losing a game"
      ],
      "metadata": {
        "id": "jvqy5G6mD3yt"
      }
    },
    {
      "cell_type": "code",
      "source": [
        "df_teams_2000 = df_teams_2000.reset_index(drop=True)\n",
        "df_teams_2000.loc[df_teams_2000.winning_team == df_teams_2000.home_team,'winning_team']=3\n",
        "df_teams_2000.loc[df_teams_2000.winning_team == 'Draw', 'winning_team']=1\n",
        "df_teams_2000.loc[df_teams_2000.winning_team == df_teams_2000.away_team, 'winning_team']=0"
      ],
      "metadata": {
        "id": "bEIWJz-cDxNw"
      },
      "execution_count": null,
      "outputs": []
    },
    {
      "cell_type": "markdown",
      "source": [
        "## Splitting the data into testing and training data, as well as cross validating"
      ],
      "metadata": {
        "id": "1IhcCiCEFHlj"
      }
    },
    {
      "cell_type": "code",
      "source": [
        "final = pd.get_dummies(df_teams_2000, prefix=['home_team', 'away_team'], columns=['home_team', 'away_team'])\n",
        "\n",
        "# Separating X and y sets\n",
        "X = final.drop(['winning_team'], axis=1)\n",
        "y = final[\"winning_team\"]\n",
        "y = y.astype('int')\n",
        "\n",
        "# Separating training and testing sets\n",
        "X_train, X_test, y_train, y_test = train_test_split(X, y, test_size=0.30, random_state=42) # Look at K-fold approach"
      ],
      "metadata": {
        "id": "IERss2GuFM5l"
      },
      "execution_count": null,
      "outputs": []
    },
    {
      "cell_type": "code",
      "source": [
        "from sklearn import svm\n",
        "\n",
        "scoring = ['precision_macro', 'recall_macro']\n",
        "clf = svm.SVC(kernel='linear', C=1, random_state=0)\n",
        "scores = cross_validate(clf, X_train, y_train, scoring=scoring)\n",
        "sorted(scores.keys())\n",
        "scores['test_recall_macro']"
      ],
      "metadata": {
        "colab": {
          "base_uri": "https://localhost:8080/"
        },
        "id": "ifveLPAzHa8p",
        "outputId": "0f1fa9c1-0f45-4e42-9f44-ac338d014222"
      },
      "execution_count": null,
      "outputs": [
        {
          "output_type": "execute_result",
          "data": {
            "text/plain": [
              "array([0.45558379, 0.45635134, 0.44925555, 0.46130716, 0.45355348])"
            ]
          },
          "metadata": {},
          "execution_count": 14
        }
      ]
    },
    {
      "cell_type": "markdown",
      "source": [
        "## SVM Model\n"
      ],
      "metadata": {
        "id": "hocleo7bJM7i"
      }
    },
    {
      "cell_type": "code",
      "source": [
        "from sklearn import svm\n",
        "\n",
        "svm_clf = svm.SVC().fit(X_train, y_train)# svm.LinearSVC() for one-vs-the-rest\n",
        "\n",
        "score = svm_clf.score(X_train, y_train)\n",
        "score2 = svm_clf.score(X_test, y_test)\n",
        "\n",
        "print('Training set accuracy ', '%.3f'%(score))\n",
        "print('Test set accuracy ', '%.3f'%(score2))\n",
        "\n",
        "saveModelsToDrive('svm_Monday_2.sav', svm_clf)"
      ],
      "metadata": {
        "id": "cJ5alBMUJRZO",
        "colab": {
          "base_uri": "https://localhost:8080/"
        },
        "outputId": "2dcb1347-9b0f-4655-883f-337ab14914bb"
      },
      "execution_count": null,
      "outputs": [
        {
          "output_type": "stream",
          "name": "stdout",
          "text": [
            "Training set accuracy  0.655\n",
            "Test set accuracy  0.560\n"
          ]
        }
      ]
    },
    {
      "cell_type": "markdown",
      "source": [
        "## Logistic Regression Model:"
      ],
      "metadata": {
        "id": "EnO_O5XoJdYo"
      }
    },
    {
      "cell_type": "code",
      "source": [
        "from sklearn.linear_model import LogisticRegression\n",
        "\n",
        "final.head()\n",
        "logistic = LogisticRegression(penalty='l2', max_iter = 1000)\n",
        "logistic.fit(X_train, y_train)\n",
        "score = logistic.score(X_train, y_train)\n",
        "score2 = logistic.score(X_test, y_test)\n",
        "\n",
        "print('Training set accuracy ', '%.3f'%(score))\n",
        "print('Test set accuracy ', '%.3f'%(score2))\n",
        "\n",
        "saveModelsToDrive('logistic_Monday_2.sav', logistic)"
      ],
      "metadata": {
        "id": "pRn-MklPJi_Z",
        "colab": {
          "base_uri": "https://localhost:8080/"
        },
        "outputId": "22a5da52-d650-4913-8ab0-5cadf9189680"
      },
      "execution_count": null,
      "outputs": [
        {
          "output_type": "stream",
          "name": "stdout",
          "text": [
            "Training set accuracy  0.581\n",
            "Test set accuracy  0.554\n"
          ]
        }
      ]
    },
    {
      "cell_type": "markdown",
      "source": [
        "## Random Forest Model:"
      ],
      "metadata": {
        "id": "0YH9-1jLpfUw"
      }
    },
    {
      "cell_type": "code",
      "source": [
        "from sklearn.ensemble import RandomForestClassifier\n",
        "\n",
        "forest_clf = RandomForestClassifier()\n",
        "forest_clf.fit(X_train, y_train)\n",
        "\n",
        "score = forest_clf.score(X_train, y_train)\n",
        "score2 = forest_clf.score(X_test, y_test)\n",
        "\n",
        "print('Training set accuracy ', '%.3f'%(score))\n",
        "print('Test set accuracy ', '%.3f'%(score2))\n",
        "\n",
        "saveModelsToDrive(\"RandomForest.sav\", forest_clf)"
      ],
      "metadata": {
        "id": "db9T1cEWpgGc",
        "colab": {
          "base_uri": "https://localhost:8080/"
        },
        "outputId": "e9c36fbd-6e93-4ae2-d245-fccfb5183ecb"
      },
      "execution_count": null,
      "outputs": [
        {
          "output_type": "stream",
          "name": "stdout",
          "text": [
            "Training set accuracy  0.707\n",
            "Test set accuracy  0.543\n"
          ]
        }
      ]
    },
    {
      "cell_type": "markdown",
      "source": [
        "## We will match predictions using the latest FIFA rankings and group stage planned match information. For any match scheduled to be played the higher ranked team according to the latest FIFA rankings will be the home team."
      ],
      "metadata": {
        "id": "XuT3OXgLElcM"
      }
    },
    {
      "cell_type": "code",
      "source": [
        "# List for storing the group stage games\n",
        "pred_set = []\n",
        "\n",
        "# Create new columns with ranking position of each team\n",
        "fixtures.insert(1, 'first_position', fixtures['Home Team'].map(ranking.set_index('Team')['Position']))\n",
        "fixtures.insert(2, 'second_position', fixtures['Away Team'].map(ranking.set_index('Team')['Position']))\n",
        "\n",
        "# We only need the group stage games, so we have to slice the dataset\n",
        "fixtures = fixtures.iloc[:48, :]\n",
        "################################################################################\n",
        "# MAKING PREDICTION\n",
        "################################################################################\n",
        "\n",
        "# Loop to add teams to new prediction dataset based on the ranking position of each team\n",
        "for index, row in fixtures.iterrows():\n",
        "    if row['first_position'] < row['second_position']:\n",
        "        pred_set.append({'home_team': row['Home Team'], 'away_team': row['Away Team'], 'winning_team': None})\n",
        "    else:\n",
        "        pred_set.append({'home_team': row['Away Team'], 'away_team': row['Home Team'], 'winning_team': None})\n",
        "\n",
        "pred_set = pd.DataFrame(pred_set)\n",
        "backup_pred_set = pred_set\n",
        "\n",
        "pred_set.head()\n",
        "\n",
        "# Get dummy variables and drop winning_team column\n",
        "pred_set = pd.get_dummies(pred_set, prefix=['home_team', 'away_team'], columns=['home_team', 'away_team'])\n",
        "\n",
        "# Add missing columns compared to the model's training dataset\n",
        "missing_cols = set(final.columns) - set(pred_set.columns)\n",
        "for i in missing_cols:\n",
        "    pred_set[i] = 0\n",
        "pred_set = pred_set[final.columns]\n",
        "\n",
        "# Remove winning team column\n",
        "pred_set = pred_set.drop(['winning_team'], axis=1)\n",
        "\n",
        "pred_set.head()\n",
        "winners = []\n",
        "draws = []\n",
        "predictions = svm_clf.predict(pred_set)\n",
        "for i in range(fixtures.shape[0]):\n",
        "    print('Match Number: ', i+1)\n",
        "    print(backup_pred_set.iloc[i, 0] + ' and ' + backup_pred_set.iloc[i, 1])\n",
        "    if predictions[i] == 3:\n",
        "        print('Winner: ' + backup_pred_set.iloc[i, 0])\n",
        "        winners.append(backup_pred_set.iloc[i, 0])\n",
        "\n",
        "    elif predictions[i] == 1:\n",
        "        print('Draw')\n",
        "        draws.append(backup_pred_set.iloc[i, 0])\n",
        "        draws.append(backup_pred_set.iloc[i, 1])\n",
        "\n",
        "    elif predictions[i] == 0:\n",
        "        print('Winner: ' + backup_pred_set.iloc[i, 1])\n",
        "        winners.append(backup_pred_set.iloc[i, 1])\n",
        "\n",
        "    print('')"
      ],
      "metadata": {
        "id": "OzkuOeggFvWe",
        "colab": {
          "base_uri": "https://localhost:8080/"
        },
        "outputId": "12ceb7d2-29a2-4d5e-dada-154e9f866745"
      },
      "execution_count": null,
      "outputs": [
        {
          "output_type": "stream",
          "name": "stderr",
          "text": [
            "/usr/local/lib/python3.7/dist-packages/ipykernel_launcher.py:32: PerformanceWarning: DataFrame is highly fragmented.  This is usually the result of calling `frame.insert` many times, which has poor performance.  Consider joining all columns at once using pd.concat(axis=1) instead.  To get a de-fragmented frame, use `newframe = frame.copy()`\n"
          ]
        },
        {
          "output_type": "stream",
          "name": "stdout",
          "text": [
            "Match Number:  1\n",
            "Netherlands and Senegal\n",
            "Winner: Netherlands\n",
            "\n",
            "Match Number:  2\n",
            "England and Iran\n",
            "Winner: England\n",
            "\n",
            "Match Number:  3\n",
            "Ecuador and Qatar\n",
            "Winner: Ecuador\n",
            "\n",
            "Match Number:  4\n",
            "USA and Wales\n",
            "Winner: USA\n",
            "\n",
            "Match Number:  5\n",
            "Argentina and Saudi Arabia\n",
            "Winner: Argentina\n",
            "\n",
            "Match Number:  6\n",
            "Denmark and Tunisia\n",
            "Winner: Denmark\n",
            "\n",
            "Match Number:  7\n",
            "Mexico and Poland\n",
            "Winner: Mexico\n",
            "\n",
            "Match Number:  8\n",
            "France and Australia\n",
            "Winner: France\n",
            "\n",
            "Match Number:  9\n",
            "Croatia and Morocco\n",
            "Winner: Croatia\n",
            "\n",
            "Match Number:  10\n",
            "Germany and Japan\n",
            "Winner: Germany\n",
            "\n",
            "Match Number:  11\n",
            "Spain and Costa Rica\n",
            "Winner: Spain\n",
            "\n",
            "Match Number:  12\n",
            "Belgium and Canada\n",
            "Winner: Belgium\n",
            "\n",
            "Match Number:  13\n",
            "Switzerland and Cameroon\n",
            "Winner: Switzerland\n",
            "\n",
            "Match Number:  14\n",
            "Korea Republic and Uruguay\n",
            "Winner: Uruguay\n",
            "\n",
            "Match Number:  15\n",
            "Portugal and Ghana\n",
            "Winner: Portugal\n",
            "\n",
            "Match Number:  16\n",
            "Brazil and Serbia\n",
            "Winner: Brazil\n",
            "\n",
            "Match Number:  17\n",
            "Wales and Iran\n",
            "Winner: Iran\n",
            "\n",
            "Match Number:  18\n",
            "Senegal and Qatar\n",
            "Winner: Senegal\n",
            "\n",
            "Match Number:  19\n",
            "Netherlands and Ecuador\n",
            "Winner: Netherlands\n",
            "\n",
            "Match Number:  20\n",
            "England and USA\n",
            "Winner: England\n",
            "\n",
            "Match Number:  21\n",
            "Tunisia and Australia\n",
            "Winner: Tunisia\n",
            "\n",
            "Match Number:  22\n",
            "Poland and Saudi Arabia\n",
            "Winner: Poland\n",
            "\n",
            "Match Number:  23\n",
            "France and Denmark\n",
            "Winner: France\n",
            "\n",
            "Match Number:  24\n",
            "Argentina and Mexico\n",
            "Winner: Argentina\n",
            "\n",
            "Match Number:  25\n",
            "Japan and Costa Rica\n",
            "Winner: Japan\n",
            "\n",
            "Match Number:  26\n",
            "Belgium and Morocco\n",
            "Winner: Belgium\n",
            "\n",
            "Match Number:  27\n",
            "Croatia and Canada\n",
            "Winner: Croatia\n",
            "\n",
            "Match Number:  28\n",
            "Spain and Germany\n",
            "Winner: Spain\n",
            "\n",
            "Match Number:  29\n",
            "Serbia and Cameroon\n",
            "Winner: Serbia\n",
            "\n",
            "Match Number:  30\n",
            "Ghana and Korea Republic\n",
            "Winner: Ghana\n",
            "\n",
            "Match Number:  31\n",
            "Brazil and Switzerland\n",
            "Draw\n",
            "\n",
            "Match Number:  32\n",
            "Portugal and Uruguay\n",
            "Winner: Portugal\n",
            "\n",
            "Match Number:  33\n",
            "Senegal and Ecuador\n",
            "Winner: Senegal\n",
            "\n",
            "Match Number:  34\n",
            "Netherlands and Qatar\n",
            "Winner: Netherlands\n",
            "\n",
            "Match Number:  35\n",
            "England and Wales\n",
            "Winner: England\n",
            "\n",
            "Match Number:  36\n",
            "USA and Iran\n",
            "Draw\n",
            "\n",
            "Match Number:  37\n",
            "Denmark and Australia\n",
            "Winner: Denmark\n",
            "\n",
            "Match Number:  38\n",
            "France and Tunisia\n",
            "Winner: France\n",
            "\n",
            "Match Number:  39\n",
            "Argentina and Poland\n",
            "Winner: Argentina\n",
            "\n",
            "Match Number:  40\n",
            "Mexico and Saudi Arabia\n",
            "Winner: Mexico\n",
            "\n",
            "Match Number:  41\n",
            "Belgium and Croatia\n",
            "Winner: Croatia\n",
            "\n",
            "Match Number:  42\n",
            "Morocco and Canada\n",
            "Winner: Morocco\n",
            "\n",
            "Match Number:  43\n",
            "Spain and Japan\n",
            "Winner: Spain\n",
            "\n",
            "Match Number:  44\n",
            "Germany and Costa Rica\n",
            "Winner: Germany\n",
            "\n",
            "Match Number:  45\n",
            "Uruguay and Ghana\n",
            "Winner: Uruguay\n",
            "\n",
            "Match Number:  46\n",
            "Portugal and Korea Republic\n",
            "Winner: Portugal\n",
            "\n",
            "Match Number:  47\n",
            "Switzerland and Serbia\n",
            "Winner: Serbia\n",
            "\n",
            "Match Number:  48\n",
            "Brazil and Cameroon\n",
            "Winner: Brazil\n",
            "\n"
          ]
        }
      ]
    },
    {
      "cell_type": "markdown",
      "source": [
        "## Outputting results of the group stage in a table:"
      ],
      "metadata": {
        "id": "7RE-4MjRFLPZ"
      }
    },
    {
      "cell_type": "code",
      "source": [
        "def get_table(groupArray):\n",
        "    groupTable = []\n",
        "    for Team in groupArray:\n",
        "        newArray = [Team, 0, 0, 0, 0]\n",
        "\n",
        "        for winTeam in winners:\n",
        "            if winTeam == Team:\n",
        "                newArray[1] += 1\n",
        "\n",
        "        for drawTeam in draws:\n",
        "            if drawTeam == Team:\n",
        "                newArray[2] += 1\n",
        "\n",
        "        newArray[3] = 3-(newArray[1]+newArray[2])\n",
        "        newArray[4] = 3*newArray[1]+newArray[2]\n",
        "\n",
        "        groupTable.append(newArray)\n",
        "    groupTable.sort(key = lambda groupTable: groupTable[4], reverse = True)\n",
        "    groupTable.insert(0, ['Team Name', 'Wins', 'Draws', 'Losses', 'Points', 'Advanced to Group Stage?'])\n",
        "    return groupTable\n",
        "\n",
        "groups = {'Group A': ['Qatar', 'Ecuador', 'Senegal', 'Netherlands'],\n",
        "          'Group B': ['England', 'Iran', 'USA', 'Wales'],\n",
        "          'Group C': ['Argentina', 'Saudi Arabia', 'Mexico', 'Poland'],\n",
        "          'Group D' : ['France', 'Australia', 'Denmark', 'Tunisia'],\n",
        "          'Group E' : ['Spain', 'Germany', 'Japan', 'Costa Rica'],\n",
        "          'Group F' : ['Belgium', 'Canada', 'Morocco', 'Croatia'],\n",
        "          'Group G' : ['Brazil', 'Serbia', 'Switzerland', 'Cameroon'],\n",
        "          'Group H' : ['Portugal', 'Ghana', 'Uruguay', 'Korea Republic'],\n",
        "}\n",
        "newerArray = []\n",
        "count = 0\n",
        "for x in groups:\n",
        "    newerArray.append(get_table(groups[x]))\n",
        "    print(x)\n",
        "    print(tabulate(newerArray[count], headers='firstrow', tablefmt='fancy_grid'), '\\n')\n",
        "    count += 1"
      ],
      "metadata": {
        "id": "1Zqe1zBK8gkM",
        "colab": {
          "base_uri": "https://localhost:8080/"
        },
        "outputId": "e0f9cacb-a0c7-441e-8c77-5cd33f5f6f78"
      },
      "execution_count": null,
      "outputs": [
        {
          "output_type": "stream",
          "name": "stdout",
          "text": [
            "Group A\n",
            "╒═════════════╤════════╤═════════╤══════════╤══════════╕\n",
            "│ Team Name   │   Wins │   Draws │   Losses │   Points │\n",
            "╞═════════════╪════════╪═════════╪══════════╪══════════╡\n",
            "│ Netherlands │      3 │       0 │        0 │        9 │\n",
            "├─────────────┼────────┼─────────┼──────────┼──────────┤\n",
            "│ Senegal     │      2 │       0 │        1 │        6 │\n",
            "├─────────────┼────────┼─────────┼──────────┼──────────┤\n",
            "│ Ecuador     │      1 │       0 │        2 │        3 │\n",
            "├─────────────┼────────┼─────────┼──────────┼──────────┤\n",
            "│ Qatar       │      0 │       0 │        3 │        0 │\n",
            "╘═════════════╧════════╧═════════╧══════════╧══════════╛ \n",
            "\n",
            "Group B\n",
            "╒═════════════╤════════╤═════════╤══════════╤══════════╕\n",
            "│ Team Name   │   Wins │   Draws │   Losses │   Points │\n",
            "╞═════════════╪════════╪═════════╪══════════╪══════════╡\n",
            "│ England     │      3 │       0 │        0 │        9 │\n",
            "├─────────────┼────────┼─────────┼──────────┼──────────┤\n",
            "│ Iran        │      1 │       1 │        1 │        4 │\n",
            "├─────────────┼────────┼─────────┼──────────┼──────────┤\n",
            "│ USA         │      1 │       1 │        1 │        4 │\n",
            "├─────────────┼────────┼─────────┼──────────┼──────────┤\n",
            "│ Wales       │      0 │       0 │        3 │        0 │\n",
            "╘═════════════╧════════╧═════════╧══════════╧══════════╛ \n",
            "\n",
            "Group C\n",
            "╒══════════════╤════════╤═════════╤══════════╤══════════╕\n",
            "│ Team Name    │   Wins │   Draws │   Losses │   Points │\n",
            "╞══════════════╪════════╪═════════╪══════════╪══════════╡\n",
            "│ Argentina    │      3 │       0 │        0 │        9 │\n",
            "├──────────────┼────────┼─────────┼──────────┼──────────┤\n",
            "│ Mexico       │      2 │       0 │        1 │        6 │\n",
            "├──────────────┼────────┼─────────┼──────────┼──────────┤\n",
            "│ Poland       │      1 │       0 │        2 │        3 │\n",
            "├──────────────┼────────┼─────────┼──────────┼──────────┤\n",
            "│ Saudi Arabia │      0 │       0 │        3 │        0 │\n",
            "╘══════════════╧════════╧═════════╧══════════╧══════════╛ \n",
            "\n",
            "Group D\n",
            "╒═════════════╤════════╤═════════╤══════════╤══════════╕\n",
            "│ Team Name   │   Wins │   Draws │   Losses │   Points │\n",
            "╞═════════════╪════════╪═════════╪══════════╪══════════╡\n",
            "│ France      │      3 │       0 │        0 │        9 │\n",
            "├─────────────┼────────┼─────────┼──────────┼──────────┤\n",
            "│ Denmark     │      2 │       0 │        1 │        6 │\n",
            "├─────────────┼────────┼─────────┼──────────┼──────────┤\n",
            "│ Tunisia     │      1 │       0 │        2 │        3 │\n",
            "├─────────────┼────────┼─────────┼──────────┼──────────┤\n",
            "│ Australia   │      0 │       0 │        3 │        0 │\n",
            "╘═════════════╧════════╧═════════╧══════════╧══════════╛ \n",
            "\n",
            "Group E\n",
            "╒═════════════╤════════╤═════════╤══════════╤══════════╕\n",
            "│ Team Name   │   Wins │   Draws │   Losses │   Points │\n",
            "╞═════════════╪════════╪═════════╪══════════╪══════════╡\n",
            "│ Spain       │      3 │       0 │        0 │        9 │\n",
            "├─────────────┼────────┼─────────┼──────────┼──────────┤\n",
            "│ Germany     │      2 │       0 │        1 │        6 │\n",
            "├─────────────┼────────┼─────────┼──────────┼──────────┤\n",
            "│ Japan       │      1 │       0 │        2 │        3 │\n",
            "├─────────────┼────────┼─────────┼──────────┼──────────┤\n",
            "│ Costa Rica  │      0 │       0 │        3 │        0 │\n",
            "╘═════════════╧════════╧═════════╧══════════╧══════════╛ \n",
            "\n",
            "Group F\n",
            "╒═════════════╤════════╤═════════╤══════════╤══════════╕\n",
            "│ Team Name   │   Wins │   Draws │   Losses │   Points │\n",
            "╞═════════════╪════════╪═════════╪══════════╪══════════╡\n",
            "│ Croatia     │      3 │       0 │        0 │        9 │\n",
            "├─────────────┼────────┼─────────┼──────────┼──────────┤\n",
            "│ Belgium     │      2 │       0 │        1 │        6 │\n",
            "├─────────────┼────────┼─────────┼──────────┼──────────┤\n",
            "│ Morocco     │      1 │       0 │        2 │        3 │\n",
            "├─────────────┼────────┼─────────┼──────────┼──────────┤\n",
            "│ Canada      │      0 │       0 │        3 │        0 │\n",
            "╘═════════════╧════════╧═════════╧══════════╧══════════╛ \n",
            "\n",
            "Group G\n",
            "╒═════════════╤════════╤═════════╤══════════╤══════════╕\n",
            "│ Team Name   │   Wins │   Draws │   Losses │   Points │\n",
            "╞═════════════╪════════╪═════════╪══════════╪══════════╡\n",
            "│ Brazil      │      2 │       1 │        0 │        7 │\n",
            "├─────────────┼────────┼─────────┼──────────┼──────────┤\n",
            "│ Serbia      │      2 │       0 │        1 │        6 │\n",
            "├─────────────┼────────┼─────────┼──────────┼──────────┤\n",
            "│ Switzerland │      1 │       1 │        1 │        4 │\n",
            "├─────────────┼────────┼─────────┼──────────┼──────────┤\n",
            "│ Cameroon    │      0 │       0 │        3 │        0 │\n",
            "╘═════════════╧════════╧═════════╧══════════╧══════════╛ \n",
            "\n",
            "Group H\n",
            "╒════════════════╤════════╤═════════╤══════════╤══════════╕\n",
            "│ Team Name      │   Wins │   Draws │   Losses │   Points │\n",
            "╞════════════════╪════════╪═════════╪══════════╪══════════╡\n",
            "│ Portugal       │      3 │       0 │        0 │        9 │\n",
            "├────────────────┼────────┼─────────┼──────────┼──────────┤\n",
            "│ Uruguay        │      2 │       0 │        1 │        6 │\n",
            "├────────────────┼────────┼─────────┼──────────┼──────────┤\n",
            "│ Ghana          │      1 │       0 │        2 │        3 │\n",
            "├────────────────┼────────┼─────────┼──────────┼──────────┤\n",
            "│ Korea Republic │      0 │       0 │        3 │        0 │\n",
            "╘════════════════╧════════╧═════════╧══════════╧══════════╛ \n",
            "\n"
          ]
        }
      ]
    },
    {
      "cell_type": "markdown",
      "source": [
        "## Making a function to predict winners. This function will be used for all knockout stage matches:"
      ],
      "metadata": {
        "id": "8WBqexCdRKn_"
      }
    },
    {
      "cell_type": "code",
      "source": [
        "def predict(matches, ranking, final, logistic):\n",
        "    #Initialization of auxiliary list for data cleaning\n",
        "    positions = []\n",
        "\n",
        "    #Loop to retrieve each team's position according to FIFA ranking\n",
        "    for match in matches:\n",
        "        positions.append(ranking.loc[ranking['Team'] == match[0], 'Position'].iloc[0])\n",
        "        positions.append(ranking.loc[ranking['Team'] == match[1], 'Position'].iloc[0])\n",
        "\n",
        "    #Creating the DataFrame for prediction\n",
        "    pred_set = []\n",
        "\n",
        "    #initalizaing iterators for while loop\n",
        "    i = 0\n",
        "    j = 0\n",
        "\n",
        "    # 'i' will be the iterator for the 'position' list, and 'j' for the list of matches (list of tuples)\n",
        "\n",
        "    while i < len(positions):\n",
        "        dict1 = {}\n",
        "\n",
        "        # if position of first team is better, he will be the 'home' team, and vice-versa\n",
        "        if positions[i] < positions[i + 1]:\n",
        "            dict1.update({'home_team': matches[j][0], 'away_team': matches[j][1]})\n",
        "        else:\n",
        "            dict1.update({'home_team': matches[j][1], 'away_team': matches[j][0]})\n",
        "\n",
        "        #Append updated dictionary to the list, that will later be converted into a DataFrame\n",
        "        pred_set.append(dict1)\n",
        "        i += 2\n",
        "        j += 1\n",
        "\n",
        "    #Covert list into DataFrame\n",
        "    pred_set = pd.DataFrame(pred_set)\n",
        "    backup_pred_set = pred_set\n",
        "\n",
        "    #Get dummy variables and drop winning_team column\n",
        "    pred_set = pd.get_dummies(pred_set, prefix = ['home_team', 'away_team'], columns = ['home_team', 'away_team'])\n",
        "\n",
        "    #Add missing columns compared to the model's training dataset\n",
        "    missing_cols2 = set(final.columns) - set(pred_set.columns)\n",
        "    for c in missing_cols2:\n",
        "        pred_set[c] = 0\n",
        "    pred_set = pred_set[final.columns]\n",
        "\n",
        "    #Remove winning team column\n",
        "    pred_set = pred_set.drop(['winning_team'], axis=1)\n",
        "\n",
        "    #List of winning teams\n",
        "    winningTeams = []\n",
        "\n",
        "    #Prediction\n",
        "    predictions = logistic.predict(pred_set)\n",
        "    for i in range(len(pred_set)):\n",
        "        print(backup_pred_set.iloc[i,1] + ' and ' + backup_pred_set.iloc[i,0])\n",
        "        if predictions[i] == 3:\n",
        "            print('Winner: ' + backup_pred_set.iloc[i,0], '\\n')\n",
        "            winningTeams.append(backup_pred_set.iloc[i,0])\n",
        "        elif predictions[i] == 1:\n",
        "          pass\n",
        "           # print('Draw')\n",
        "        elif predictions[i] == 0:\n",
        "            print('Winner: ' + backup_pred_set.iloc[i, 1], '\\n')\n",
        "            winningTeams.append(backup_pred_set.iloc[i,1])\n",
        "        #print('Probability of ' + backup_pred_set.iloc[i,0] + ' winning: ', '%.3f'%(logistic.predict_proba(pred_set)[i][2]))\n",
        "        #print('Probability of Draw: ', '%.3f'%(logistic.predict_proba(pred_set)[i][1]))\n",
        "        #print('Probability of ' + backup_pred_set.iloc[i, 1] + ' winning: ', '%.3f'%(logistic.predict_proba(pred_set)[i][0]))\n",
        "        #print('')\n",
        "\n",
        "    return winningTeams"
      ],
      "metadata": {
        "id": "Ci3pkSY7RSdV"
      },
      "execution_count": null,
      "outputs": []
    },
    {
      "cell_type": "markdown",
      "source": [
        "## Making an array to represent which teams are playing against each other in the round of 16 and making predictions"
      ],
      "metadata": {
        "id": "Fb1EpRekSz3n"
      }
    },
    {
      "cell_type": "code",
      "source": [
        "# Making an array to represent\n",
        "advancingTeams = []\n",
        "for i in range(0,len(newerArray),2):\n",
        "    x = (newerArray[i][1][0], newerArray[i+1][2][0])\n",
        "    y = (newerArray[i][2][0], newerArray[i+1][1][0])\n",
        "    advancingTeams.append(x)\n",
        "    advancingTeams.append(y)\n",
        "\n",
        "round_of_16 = advancingTeams\n",
        "listTeamWins = predict(round_of_16, ranking, final, logistic)\n"
      ],
      "metadata": {
        "id": "0_FmjoknTLE3",
        "colab": {
          "base_uri": "https://localhost:8080/"
        },
        "outputId": "e5494c11-6165-47c8-abc1-dbd126a2c56e"
      },
      "execution_count": null,
      "outputs": [
        {
          "output_type": "stream",
          "name": "stdout",
          "text": [
            "Iran and Netherlands\n",
            "Winner: Netherlands \n",
            "\n",
            "Senegal and England\n",
            "Winner: England \n",
            "\n",
            "Denmark and Argentina\n",
            "Winner: Argentina \n",
            "\n",
            "Mexico and France\n",
            "Winner: France \n",
            "\n",
            "Spain and Belgium\n",
            "Winner: Spain \n",
            "\n",
            "Croatia and Germany\n",
            "Winner: Germany \n",
            "\n",
            "Uruguay and Brazil\n",
            "Winner: Brazil \n",
            "\n",
            "Serbia and Portugal\n",
            "Winner: Portugal \n",
            "\n"
          ]
        },
        {
          "output_type": "stream",
          "name": "stderr",
          "text": [
            "/usr/local/lib/python3.7/dist-packages/ipykernel_launcher.py:43: PerformanceWarning: DataFrame is highly fragmented.  This is usually the result of calling `frame.insert` many times, which has poor performance.  Consider joining all columns at once using pd.concat(axis=1) instead.  To get a de-fragmented frame, use `newframe = frame.copy()`\n"
          ]
        }
      ]
    },
    {
      "cell_type": "markdown",
      "source": [
        "## Making an array to represent which teams are playing against each other in the quarterfinals and making predictions"
      ],
      "metadata": {
        "id": "0bp7Ma2xTgKl"
      }
    },
    {
      "cell_type": "code",
      "source": [
        "advancingTeams = []\n",
        "i=0\n",
        "for w in range(2):\n",
        "    x = (listTeamWins[i], listTeamWins[i+2])\n",
        "    y = (listTeamWins[i+1], listTeamWins[i+3])\n",
        "    i = i+4\n",
        "    advancingTeams.append(x)\n",
        "    advancingTeams.append(y)\n",
        "\n",
        "quarter_final = advancingTeams\n",
        "listTeamWins = predict(quarter_final, ranking, final, logistic)\n"
      ],
      "metadata": {
        "id": "0psLILMoTkGs",
        "colab": {
          "base_uri": "https://localhost:8080/"
        },
        "outputId": "dd0b7a80-7264-45f4-da28-6f6e491be241"
      },
      "execution_count": null,
      "outputs": [
        {
          "output_type": "stream",
          "name": "stdout",
          "text": [
            "Netherlands and Argentina\n",
            "Winner: Argentina \n",
            "\n",
            "England and France\n",
            "Winner: England \n",
            "\n",
            "Spain and Brazil\n",
            "Winner: Brazil \n",
            "\n",
            "Germany and Portugal\n",
            "Winner: Portugal \n",
            "\n"
          ]
        },
        {
          "output_type": "stream",
          "name": "stderr",
          "text": [
            "/usr/local/lib/python3.7/dist-packages/ipykernel_launcher.py:43: PerformanceWarning: DataFrame is highly fragmented.  This is usually the result of calling `frame.insert` many times, which has poor performance.  Consider joining all columns at once using pd.concat(axis=1) instead.  To get a de-fragmented frame, use `newframe = frame.copy()`\n"
          ]
        }
      ]
    },
    {
      "cell_type": "markdown",
      "source": [
        "## Making an array to represent which teams are playing against each other in the semifinals and making predictions"
      ],
      "metadata": {
        "id": "hQwlE4acTxnr"
      }
    },
    {
      "cell_type": "code",
      "source": [
        "advancingTeams = []\n",
        "i=0\n",
        "for w in range(1):\n",
        "    x = (listTeamWins[i], listTeamWins[i+2])\n",
        "    y = (listTeamWins[i+1], listTeamWins[i+3])\n",
        "    i = i+4\n",
        "    advancingTeams.append(x)\n",
        "    advancingTeams.append(y)\n",
        "\n",
        "semi_final = advancingTeams\n",
        "\n",
        "listTeamWins = predict(semi_final, ranking, final, logistic)\n"
      ],
      "metadata": {
        "id": "whqx4EChT0JI",
        "colab": {
          "base_uri": "https://localhost:8080/"
        },
        "outputId": "61db56f0-000f-4ff5-8a94-5ebae695bc72"
      },
      "execution_count": null,
      "outputs": [
        {
          "output_type": "stream",
          "name": "stdout",
          "text": [
            "Argentina and Brazil\n",
            "Winner: Brazil \n",
            "\n",
            "Portugal and England\n",
            "Winner: England \n",
            "\n"
          ]
        },
        {
          "output_type": "stream",
          "name": "stderr",
          "text": [
            "/usr/local/lib/python3.7/dist-packages/ipykernel_launcher.py:43: PerformanceWarning: DataFrame is highly fragmented.  This is usually the result of calling `frame.insert` many times, which has poor performance.  Consider joining all columns at once using pd.concat(axis=1) instead.  To get a de-fragmented frame, use `newframe = frame.copy()`\n"
          ]
        }
      ]
    },
    {
      "cell_type": "markdown",
      "source": [
        "## Making an array to represent which teams are playing against each other in the finals and making predictions"
      ],
      "metadata": {
        "id": "3xjkON8hUAAF"
      }
    },
    {
      "cell_type": "code",
      "source": [
        "advancingTeams = [(listTeamWins[0],listTeamWins[1])]\n",
        "\n",
        "finals = advancingTeams\n",
        "\n",
        "winner = predict(finals, ranking, final, logistic)\n"
      ],
      "metadata": {
        "id": "ovU9v8o3UH8p",
        "colab": {
          "base_uri": "https://localhost:8080/"
        },
        "outputId": "70182aa5-9312-4448-a847-a8bac5775442"
      },
      "execution_count": null,
      "outputs": [
        {
          "output_type": "stream",
          "name": "stdout",
          "text": [
            "England and Brazil\n",
            "Winner: Brazil \n",
            "\n"
          ]
        },
        {
          "output_type": "stream",
          "name": "stderr",
          "text": [
            "/usr/local/lib/python3.7/dist-packages/ipykernel_launcher.py:43: PerformanceWarning: DataFrame is highly fragmented.  This is usually the result of calling `frame.insert` many times, which has poor performance.  Consider joining all columns at once using pd.concat(axis=1) instead.  To get a de-fragmented frame, use `newframe = frame.copy()`\n"
          ]
        }
      ]
    },
    {
      "cell_type": "markdown",
      "source": [
        "## Visualizing the results of the knockout stage in a bracket:"
      ],
      "metadata": {
        "id": "BKXlo50Oxb7x"
      }
    },
    {
      "cell_type": "code",
      "source": [
        "if finals[0][0] not in semi_final[0] and finals[0][1] not in semi_final[0]:\n",
        "    temp = semi_final[0]\n",
        "    semi_final[0] = semi_final[1]\n",
        "    semi_final[1] = temp\n",
        "\n",
        "\n",
        "quarter_final_2 = []\n",
        "\n",
        "for team1, team2 in semi_final:\n",
        "        j = 0\n",
        "        while True:\n",
        "            if team1 in quarter_final[j]:\n",
        "                quarter_final_2.append(quarter_final[j])\n",
        "                break\n",
        "            else:\n",
        "                j+=1\n",
        "            if (j == len(quarter_final)):\n",
        "                break\n",
        "\n",
        "        j = 0\n",
        "        while True:\n",
        "            if team2 in quarter_final[j]:\n",
        "                quarter_final_2.append(quarter_final[j])\n",
        "                break\n",
        "            else:\n",
        "                j+=1\n",
        "\n",
        "round_of_16_2 = []\n",
        "\n",
        "for team1, team2 in quarter_final_2:\n",
        "        j = 0\n",
        "        while True:\n",
        "            if team1 in round_of_16[j]:\n",
        "                round_of_16_2.append(round_of_16[j])\n",
        "                break\n",
        "            else:\n",
        "                j+=1\n",
        "        j = 0\n",
        "        while True:\n",
        "            if team2 in round_of_16[j]:\n",
        "                round_of_16_2.append(round_of_16[j])\n",
        "                break\n",
        "            else:\n",
        "                j+=1\n",
        "\n",
        "\n",
        "for team1, team2 in round_of_16_2:\n",
        "    if (len(team1)+len(team2)) > 16:\n",
        "      print(team1+\"  \"+team2+\"    \", end=\"\")\n",
        "    if (len(team1)+len(team2)) > 14:\n",
        "      print(team1+\"   \"+team2+\"    \", end=\"\")\n",
        "    else:\n",
        "      print(team1+\"    \"+team2+\"     \", end=\"\")\n",
        "print(\"\\n\", end =\"\")\n",
        "for team1, team2 in round_of_16_2:\n",
        "    print(\"   |           |      \", end=\"\")\n",
        "print(\"\\n\", end =\"\")\n",
        "for team1, team2 in round_of_16_2:\n",
        "    print(\"   |_____ _____|      \", end=\"\")\n",
        "print(\"\\n\", end =\"\")\n",
        "for team1, team2 in round_of_16_2:\n",
        "    print(\"         |            \", end=\"\")\n",
        "print(\"\\n\", end =\"\")\n",
        "for team1, team2 in quarter_final_2:\n",
        "    if (len(team1)+len(team2)) > 14:\n",
        "      print(\"    \"+team1+\"             \"+team2+\"         \", end=\"\")\n",
        "    elif (len(team1)+len(team2)) > 12:\n",
        "      print(\"      \"+team1+\"               \"+team2+\"          \", end=\"\")\n",
        "    else:\n",
        "      print(\"      \"+team1+\"                \"+team2+\"          \", end=\"\")\n",
        "\n",
        "print(\"\\n\", end =\"\")\n",
        "for team1, team2 in quarter_final_2:\n",
        "    print(\"         |                     |            \", end=\"\")\n",
        "print(\"\\n\", end =\"\")\n",
        "for team1, team2 in quarter_final_2:\n",
        "    print(\"         |__________ __________|            \", end=\"\")\n",
        "print(\"\\n\", end =\"\")\n",
        "for team1, team2 in quarter_final_2:\n",
        "    print(\"                    |                       \", end=\"\")\n",
        "print(\"\\n\", end =\"\")\n",
        "for team1, team2 in semi_final:\n",
        "    print(\"                 \"+team1+\"                                    \"+team2+\"                    \", end=\"\")\n",
        "print(\"\\n\", end =\"\")\n",
        "for team1, team2 in semi_final:\n",
        "    print(\"                    |                                           |                       \", end=\"\")\n",
        "print(\"\\n\", end =\"\")\n",
        "for team1, team2 in semi_final:\n",
        "    print(\"                    |                                           |                       \", end=\"\")\n",
        "print(\"\\n\", end =\"\")\n",
        "for team1, team2 in semi_final:\n",
        "    print(\"                    |_____________________ _____________________|                       \", end=\"\")\n",
        "print(\"\\n\", end =\"\")\n",
        "for team1, team2 in semi_final:\n",
        "    print(\"                                          |                                             \", end=\"\")\n",
        "print(\"\\n\", end =\"\")\n",
        "print(\"                                        \"+finals[0][0]+\"                                                                                 \"+finals[0][1], end=\"\")\n",
        "print(\"\\n\", end =\"\")\n",
        "print(\"                                          |                                                                                       |\", end=\"\")\n",
        "print(\"\\n\", end =\"\")\n",
        "print(\"                                          |_____________________________________________ _________________________________________|\", end=\"\")\n",
        "print(\"\\n\", end =\"\")\n",
        "print(\"                                                                                        |                                          \", end=\"\")\n",
        "print(\"\\n\", end =\"\")\n",
        "print(\"                                                                                     \"+winner[0], end=\"\")"
      ],
      "metadata": {
        "colab": {
          "base_uri": "https://localhost:8080/"
        },
        "id": "DNX6P3BWxPwm",
        "outputId": "cf8b063f-6f45-4f9d-d762-dd70fedced8a"
      },
      "execution_count": null,
      "outputs": [
        {
          "output_type": "stream",
          "name": "stdout",
          "text": [
            "Netherlands   Iran    Argentina   Denmark    Spain    Belgium     Brazil    Uruguay     Senegal    England     Mexico    France     Germany    Croatia     Serbia    Portugal     \n",
            "   |           |         |           |         |           |         |           |         |           |         |           |         |           |         |           |      \n",
            "   |_____ _____|         |_____ _____|         |_____ _____|         |_____ _____|         |_____ _____|         |_____ _____|         |_____ _____|         |_____ _____|      \n",
            "         |                     |                     |                     |                     |                     |                     |                     |            \n",
            "    Netherlands             Argentina               Spain                Brazil                England               France              Germany             Portugal         \n",
            "         |                     |                     |                     |                     |                     |                     |                     |            \n",
            "         |__________ __________|                     |__________ __________|                     |__________ __________|                     |__________ __________|            \n",
            "                    |                                           |                                           |                                           |                       \n",
            "                 Argentina                                    Brazil                                     England                                    Portugal                    \n",
            "                    |                                           |                                           |                                           |                       \n",
            "                    |                                           |                                           |                                           |                       \n",
            "                    |_____________________ _____________________|                                           |_____________________ _____________________|                       \n",
            "                                          |                                                                                       |                                             \n",
            "                                        Brazil                                                                                 England\n",
            "                                          |                                                                                       |\n",
            "                                          |_____________________________________________ _________________________________________|\n",
            "                                                                                        |                                          \n",
            "                                                                                     Brazil"
          ]
        }
      ]
    },
    {
      "cell_type": "markdown",
      "source": [
        "### Although there are multiple different ways we can check the accuracy of a classification model such as confusion matrix, F1 score, ROC-AUC curves, as well as multiple values that can be infered from the confusion matrix such as: sensitivity, specificity, precision, and accuracy; I cannot utilize these for this model since we do not know what the actual results are."
      ],
      "metadata": {
        "id": "ycxOq4-zSGbV"
      }
    }
  ]
}